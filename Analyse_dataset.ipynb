{
 "cells": [
  {
   "cell_type": "markdown",
   "metadata": {},
   "source": [
    "# Analyse du dataset de Plonger "
   ]
  },
  {
   "cell_type": "markdown",
   "metadata": {},
   "source": [
    "## Importation des packadges"
   ]
  },
  {
   "cell_type": "code",
   "execution_count": 1,
   "metadata": {},
   "outputs": [],
   "source": [
    "import numpy as np\n",
    "import pandas as pd"
   ]
  },
  {
   "cell_type": "markdown",
   "metadata": {},
   "source": [
    "## Resumé du dataset"
   ]
  },
  {
   "cell_type": "markdown",
   "metadata": {},
   "source": [
    "Lecture du csv"
   ]
  },
  {
   "cell_type": "code",
   "execution_count": 2,
   "metadata": {},
   "outputs": [],
   "source": [
    "dataset = pd.read_csv('AIDA_Results_IA_Institut.csv')"
   ]
  },
  {
   "cell_type": "markdown",
   "metadata": {},
   "source": [
    "Affichage des 10 premières lignes"
   ]
  },
  {
   "cell_type": "code",
   "execution_count": 3,
   "metadata": {},
   "outputs": [
    {
     "data": {
      "text/html": [
       "<div>\n",
       "<style scoped>\n",
       "    .dataframe tbody tr th:only-of-type {\n",
       "        vertical-align: middle;\n",
       "    }\n",
       "\n",
       "    .dataframe tbody tr th {\n",
       "        vertical-align: top;\n",
       "    }\n",
       "\n",
       "    .dataframe thead th {\n",
       "        text-align: right;\n",
       "    }\n",
       "</style>\n",
       "<table border=\"1\" class=\"dataframe\">\n",
       "  <thead>\n",
       "    <tr style=\"text-align: right;\">\n",
       "      <th></th>\n",
       "      <th>Start</th>\n",
       "      <th>Diver</th>\n",
       "      <th>Gender</th>\n",
       "      <th>Discipline</th>\n",
       "      <th>Line</th>\n",
       "      <th>Official Top</th>\n",
       "      <th>AP</th>\n",
       "      <th>RP</th>\n",
       "      <th>Card</th>\n",
       "      <th>Points</th>\n",
       "      <th>Remarks</th>\n",
       "      <th>Title Event</th>\n",
       "      <th>Event Type</th>\n",
       "      <th>Day</th>\n",
       "      <th>Category Event</th>\n",
       "    </tr>\n",
       "  </thead>\n",
       "  <tbody>\n",
       "    <tr>\n",
       "      <th>0</th>\n",
       "      <td>1</td>\n",
       "      <td>Tasos Grillakis (GRC)</td>\n",
       "      <td>M</td>\n",
       "      <td>FIM</td>\n",
       "      <td>NaN</td>\n",
       "      <td>00:00</td>\n",
       "      <td>33</td>\n",
       "      <td>23 m</td>\n",
       "      <td>YELLOW</td>\n",
       "      <td>12.0</td>\n",
       "      <td>-</td>\n",
       "      <td>Depth Event 2016</td>\n",
       "      <td>Depth Competition</td>\n",
       "      <td>2016-07-17</td>\n",
       "      <td>other</td>\n",
       "    </tr>\n",
       "    <tr>\n",
       "      <th>1</th>\n",
       "      <td>2</td>\n",
       "      <td>Antonis Papantonatos (GRC)</td>\n",
       "      <td>M</td>\n",
       "      <td>FIM</td>\n",
       "      <td>NaN</td>\n",
       "      <td>00:00</td>\n",
       "      <td>55</td>\n",
       "      <td>47 m</td>\n",
       "      <td>YELLOW</td>\n",
       "      <td>38.0</td>\n",
       "      <td>-</td>\n",
       "      <td>Depth Event 2016</td>\n",
       "      <td>Depth Competition</td>\n",
       "      <td>2016-07-17</td>\n",
       "      <td>other</td>\n",
       "    </tr>\n",
       "    <tr>\n",
       "      <th>2</th>\n",
       "      <td>3</td>\n",
       "      <td>Dimitris Koumoulos (GRC)</td>\n",
       "      <td>M</td>\n",
       "      <td>CNF</td>\n",
       "      <td>NaN</td>\n",
       "      <td>00:00</td>\n",
       "      <td>55</td>\n",
       "      <td>55 m</td>\n",
       "      <td>WHITE</td>\n",
       "      <td>55.0</td>\n",
       "      <td>-</td>\n",
       "      <td>Depth Event 2016</td>\n",
       "      <td>Depth Competition</td>\n",
       "      <td>2016-07-17</td>\n",
       "      <td>other</td>\n",
       "    </tr>\n",
       "    <tr>\n",
       "      <th>3</th>\n",
       "      <td>4</td>\n",
       "      <td>Christos Papadopoulos (GRC)</td>\n",
       "      <td>M</td>\n",
       "      <td>CWT</td>\n",
       "      <td>NaN</td>\n",
       "      <td>00:00</td>\n",
       "      <td>55</td>\n",
       "      <td>55 m</td>\n",
       "      <td>WHITE</td>\n",
       "      <td>55.0</td>\n",
       "      <td>OK</td>\n",
       "      <td>Depth Event 2016</td>\n",
       "      <td>Depth Competition</td>\n",
       "      <td>2016-07-17</td>\n",
       "      <td>other</td>\n",
       "    </tr>\n",
       "    <tr>\n",
       "      <th>4</th>\n",
       "      <td>5</td>\n",
       "      <td>Anna Chalari (GRC)</td>\n",
       "      <td>F</td>\n",
       "      <td>CWT</td>\n",
       "      <td>NaN</td>\n",
       "      <td>00:00</td>\n",
       "      <td>15</td>\n",
       "      <td>15 m</td>\n",
       "      <td>WHITE</td>\n",
       "      <td>15.0</td>\n",
       "      <td>OK</td>\n",
       "      <td>Depth Event 2016</td>\n",
       "      <td>Depth Competition</td>\n",
       "      <td>2016-07-17</td>\n",
       "      <td>other</td>\n",
       "    </tr>\n",
       "    <tr>\n",
       "      <th>5</th>\n",
       "      <td>6</td>\n",
       "      <td>Alkisti Vouraki (GRC)</td>\n",
       "      <td>F</td>\n",
       "      <td>CWT</td>\n",
       "      <td>NaN</td>\n",
       "      <td>00:00</td>\n",
       "      <td>16</td>\n",
       "      <td>16 m</td>\n",
       "      <td>WHITE</td>\n",
       "      <td>16.0</td>\n",
       "      <td>OK</td>\n",
       "      <td>Depth Event 2016</td>\n",
       "      <td>Depth Competition</td>\n",
       "      <td>2016-07-17</td>\n",
       "      <td>other</td>\n",
       "    </tr>\n",
       "    <tr>\n",
       "      <th>6</th>\n",
       "      <td>7</td>\n",
       "      <td>Stavroula Kontorousi (GRC)</td>\n",
       "      <td>F</td>\n",
       "      <td>CWT</td>\n",
       "      <td>NaN</td>\n",
       "      <td>00:00</td>\n",
       "      <td>20</td>\n",
       "      <td>20 m</td>\n",
       "      <td>WHITE</td>\n",
       "      <td>20.0</td>\n",
       "      <td>OK</td>\n",
       "      <td>Depth Event 2016</td>\n",
       "      <td>Depth Competition</td>\n",
       "      <td>2016-07-17</td>\n",
       "      <td>other</td>\n",
       "    </tr>\n",
       "    <tr>\n",
       "      <th>7</th>\n",
       "      <td>8</td>\n",
       "      <td>Yuliya Ilkevich (BLR)</td>\n",
       "      <td>F</td>\n",
       "      <td>CWT</td>\n",
       "      <td>NaN</td>\n",
       "      <td>00:00</td>\n",
       "      <td>40</td>\n",
       "      <td>31 m</td>\n",
       "      <td>YELLOW</td>\n",
       "      <td>21.0</td>\n",
       "      <td>SHORT, TAG</td>\n",
       "      <td>Depth Event 2016</td>\n",
       "      <td>Depth Competition</td>\n",
       "      <td>2016-07-17</td>\n",
       "      <td>other</td>\n",
       "    </tr>\n",
       "    <tr>\n",
       "      <th>8</th>\n",
       "      <td>9</td>\n",
       "      <td>Dimitris Tsigkounis (GRC)</td>\n",
       "      <td>M</td>\n",
       "      <td>CWT</td>\n",
       "      <td>NaN</td>\n",
       "      <td>00:00</td>\n",
       "      <td>40</td>\n",
       "      <td>26 m</td>\n",
       "      <td>YELLOW</td>\n",
       "      <td>11.0</td>\n",
       "      <td>SHORT, TAG</td>\n",
       "      <td>Depth Event 2016</td>\n",
       "      <td>Depth Competition</td>\n",
       "      <td>2016-07-17</td>\n",
       "      <td>other</td>\n",
       "    </tr>\n",
       "    <tr>\n",
       "      <th>9</th>\n",
       "      <td>10</td>\n",
       "      <td>Emmanouil Marneros (GRC)</td>\n",
       "      <td>M</td>\n",
       "      <td>CWT</td>\n",
       "      <td>NaN</td>\n",
       "      <td>00:00</td>\n",
       "      <td>47</td>\n",
       "      <td>47 m</td>\n",
       "      <td>WHITE</td>\n",
       "      <td>47.0</td>\n",
       "      <td>OK</td>\n",
       "      <td>Depth Event 2016</td>\n",
       "      <td>Depth Competition</td>\n",
       "      <td>2016-07-17</td>\n",
       "      <td>other</td>\n",
       "    </tr>\n",
       "  </tbody>\n",
       "</table>\n",
       "</div>"
      ],
      "text/plain": [
       "   Start                        Diver Gender Discipline  Line Official Top  \\\n",
       "0      1        Tasos Grillakis (GRC)      M        FIM   NaN        00:00   \n",
       "1      2   Antonis Papantonatos (GRC)      M        FIM   NaN        00:00   \n",
       "2      3     Dimitris Koumoulos (GRC)      M        CNF   NaN        00:00   \n",
       "3      4  Christos Papadopoulos (GRC)      M        CWT   NaN        00:00   \n",
       "4      5           Anna Chalari (GRC)      F        CWT   NaN        00:00   \n",
       "5      6        Alkisti Vouraki (GRC)      F        CWT   NaN        00:00   \n",
       "6      7   Stavroula Kontorousi (GRC)      F        CWT   NaN        00:00   \n",
       "7      8        Yuliya Ilkevich (BLR)      F        CWT   NaN        00:00   \n",
       "8      9    Dimitris Tsigkounis (GRC)      M        CWT   NaN        00:00   \n",
       "9     10     Emmanouil Marneros (GRC)      M        CWT   NaN        00:00   \n",
       "\n",
       "   AP    RP    Card Points     Remarks       Title Event         Event Type  \\\n",
       "0  33  23 m  YELLOW   12.0           -  Depth Event 2016  Depth Competition   \n",
       "1  55  47 m  YELLOW   38.0           -  Depth Event 2016  Depth Competition   \n",
       "2  55  55 m   WHITE   55.0           -  Depth Event 2016  Depth Competition   \n",
       "3  55  55 m   WHITE   55.0          OK  Depth Event 2016  Depth Competition   \n",
       "4  15  15 m   WHITE   15.0          OK  Depth Event 2016  Depth Competition   \n",
       "5  16  16 m   WHITE   16.0          OK  Depth Event 2016  Depth Competition   \n",
       "6  20  20 m   WHITE   20.0          OK  Depth Event 2016  Depth Competition   \n",
       "7  40  31 m  YELLOW   21.0  SHORT, TAG  Depth Event 2016  Depth Competition   \n",
       "8  40  26 m  YELLOW   11.0  SHORT, TAG  Depth Event 2016  Depth Competition   \n",
       "9  47  47 m   WHITE   47.0          OK  Depth Event 2016  Depth Competition   \n",
       "\n",
       "          Day Category Event  \n",
       "0  2016-07-17          other  \n",
       "1  2016-07-17          other  \n",
       "2  2016-07-17          other  \n",
       "3  2016-07-17          other  \n",
       "4  2016-07-17          other  \n",
       "5  2016-07-17          other  \n",
       "6  2016-07-17          other  \n",
       "7  2016-07-17          other  \n",
       "8  2016-07-17          other  \n",
       "9  2016-07-17          other  "
      ]
     },
     "execution_count": 3,
     "metadata": {},
     "output_type": "execute_result"
    }
   ],
   "source": [
    "dataset.head(10)"
   ]
  },
  {
   "cell_type": "code",
   "execution_count": 4,
   "metadata": {},
   "outputs": [
    {
     "data": {
      "text/plain": [
       "(26841, 15)"
      ]
     },
     "execution_count": 4,
     "metadata": {},
     "output_type": "execute_result"
    }
   ],
   "source": [
    "dataset.shape"
   ]
  },
  {
   "cell_type": "code",
   "execution_count": 5,
   "metadata": {},
   "outputs": [
    {
     "data": {
      "text/plain": [
       "Start                 0\n",
       "Diver                 0\n",
       "Gender                0\n",
       "Discipline            0\n",
       "Line              22147\n",
       "Official Top          0\n",
       "AP                    0\n",
       "RP                    0\n",
       "Card                  0\n",
       "Points                0\n",
       "Remarks               5\n",
       "Title Event           0\n",
       "Event Type            0\n",
       "Day                   0\n",
       "Category Event        0\n",
       "dtype: int64"
      ]
     },
     "execution_count": 5,
     "metadata": {},
     "output_type": "execute_result"
    }
   ],
   "source": [
    "dataset.isna().sum()"
   ]
  },
  {
   "cell_type": "code",
   "execution_count": 8,
   "metadata": {},
   "outputs": [
    {
     "ename": "KeyError",
     "evalue": "('Diver', 'Gender', 'Discipline')",
     "output_type": "error",
     "traceback": [
      "\u001b[0;31m---------------------------------------------------------------------------\u001b[0m",
      "\u001b[0;31mKeyError\u001b[0m                                  Traceback (most recent call last)",
      "File \u001b[0;32m/usr/lib/python3/dist-packages/pandas/core/indexes/base.py:3361\u001b[0m, in \u001b[0;36mIndex.get_loc\u001b[0;34m(self, key, method, tolerance)\u001b[0m\n\u001b[1;32m   3360\u001b[0m \u001b[39mtry\u001b[39;00m:\n\u001b[0;32m-> 3361\u001b[0m     \u001b[39mreturn\u001b[39;00m \u001b[39mself\u001b[39;49m\u001b[39m.\u001b[39;49m_engine\u001b[39m.\u001b[39;49mget_loc(casted_key)\n\u001b[1;32m   3362\u001b[0m \u001b[39mexcept\u001b[39;00m \u001b[39mKeyError\u001b[39;00m \u001b[39mas\u001b[39;00m err:\n",
      "File \u001b[0;32m/usr/lib/python3/dist-packages/pandas/_libs/index.pyx:76\u001b[0m, in \u001b[0;36mpandas._libs.index.IndexEngine.get_loc\u001b[0;34m()\u001b[0m\n",
      "File \u001b[0;32m/usr/lib/python3/dist-packages/pandas/_libs/index.pyx:108\u001b[0m, in \u001b[0;36mpandas._libs.index.IndexEngine.get_loc\u001b[0;34m()\u001b[0m\n",
      "File \u001b[0;32mpandas/_libs/hashtable_class_helper.pxi:5198\u001b[0m, in \u001b[0;36mpandas._libs.hashtable.PyObjectHashTable.get_item\u001b[0;34m()\u001b[0m\n",
      "File \u001b[0;32mpandas/_libs/hashtable_class_helper.pxi:5206\u001b[0m, in \u001b[0;36mpandas._libs.hashtable.PyObjectHashTable.get_item\u001b[0;34m()\u001b[0m\n",
      "\u001b[0;31mKeyError\u001b[0m: ('Diver', 'Gender', 'Discipline')",
      "\nThe above exception was the direct cause of the following exception:\n",
      "\u001b[0;31mKeyError\u001b[0m                                  Traceback (most recent call last)",
      "\u001b[1;32m/home/todin/OneDrive/Machine Learning/annee2/Projet_semmestre_3_machine_learning/Analyse_dataset.ipynb Cell 11\u001b[0m line \u001b[0;36m1\n\u001b[0;32m----> <a href='vscode-notebook-cell:/home/todin/OneDrive/Machine%20Learning/annee2/Projet_semmestre_3_machine_learning/Analyse_dataset.ipynb#X14sZmlsZQ%3D%3D?line=0'>1</a>\u001b[0m non_numeric_df \u001b[39m=\u001b[39m dataset[\u001b[39m'\u001b[39;49m\u001b[39mDiver\u001b[39;49m\u001b[39m'\u001b[39;49m,\u001b[39m'\u001b[39;49m\u001b[39mGender\u001b[39;49m\u001b[39m'\u001b[39;49m, \u001b[39m'\u001b[39;49m\u001b[39mDiscipline\u001b[39;49m\u001b[39m'\u001b[39;49m] \u001b[39m#, 'Card', 'Remarks', 'Title Event', 'Event Type', 'Day', 'Category Event']\u001b[39;00m\n\u001b[1;32m      <a href='vscode-notebook-cell:/home/todin/OneDrive/Machine%20Learning/annee2/Projet_semmestre_3_machine_learning/Analyse_dataset.ipynb#X14sZmlsZQ%3D%3D?line=1'>2</a>\u001b[0m numeric_df \u001b[39m=\u001b[39m dataset[\u001b[39m'\u001b[39m\u001b[39mOfficial Top\u001b[39m\u001b[39m'\u001b[39m, \u001b[39m'\u001b[39m\u001b[39mAP\u001b[39m\u001b[39m'\u001b[39m, \u001b[39m'\u001b[39m\u001b[39mRP\u001b[39m\u001b[39m'\u001b[39m, \u001b[39m'\u001b[39m\u001b[39mPoints\u001b[39m\u001b[39m'\u001b[39m]\n",
      "File \u001b[0;32m/usr/lib/python3/dist-packages/pandas/core/frame.py:3458\u001b[0m, in \u001b[0;36mDataFrame.__getitem__\u001b[0;34m(self, key)\u001b[0m\n\u001b[1;32m   3456\u001b[0m \u001b[39mif\u001b[39;00m \u001b[39mself\u001b[39m\u001b[39m.\u001b[39mcolumns\u001b[39m.\u001b[39mnlevels \u001b[39m>\u001b[39m \u001b[39m1\u001b[39m:\n\u001b[1;32m   3457\u001b[0m     \u001b[39mreturn\u001b[39;00m \u001b[39mself\u001b[39m\u001b[39m.\u001b[39m_getitem_multilevel(key)\n\u001b[0;32m-> 3458\u001b[0m indexer \u001b[39m=\u001b[39m \u001b[39mself\u001b[39;49m\u001b[39m.\u001b[39;49mcolumns\u001b[39m.\u001b[39;49mget_loc(key)\n\u001b[1;32m   3459\u001b[0m \u001b[39mif\u001b[39;00m is_integer(indexer):\n\u001b[1;32m   3460\u001b[0m     indexer \u001b[39m=\u001b[39m [indexer]\n",
      "File \u001b[0;32m/usr/lib/python3/dist-packages/pandas/core/indexes/base.py:3363\u001b[0m, in \u001b[0;36mIndex.get_loc\u001b[0;34m(self, key, method, tolerance)\u001b[0m\n\u001b[1;32m   3361\u001b[0m         \u001b[39mreturn\u001b[39;00m \u001b[39mself\u001b[39m\u001b[39m.\u001b[39m_engine\u001b[39m.\u001b[39mget_loc(casted_key)\n\u001b[1;32m   3362\u001b[0m     \u001b[39mexcept\u001b[39;00m \u001b[39mKeyError\u001b[39;00m \u001b[39mas\u001b[39;00m err:\n\u001b[0;32m-> 3363\u001b[0m         \u001b[39mraise\u001b[39;00m \u001b[39mKeyError\u001b[39;00m(key) \u001b[39mfrom\u001b[39;00m \u001b[39merr\u001b[39;00m\n\u001b[1;32m   3365\u001b[0m \u001b[39mif\u001b[39;00m is_scalar(key) \u001b[39mand\u001b[39;00m isna(key) \u001b[39mand\u001b[39;00m \u001b[39mnot\u001b[39;00m \u001b[39mself\u001b[39m\u001b[39m.\u001b[39mhasnans:\n\u001b[1;32m   3366\u001b[0m     \u001b[39mraise\u001b[39;00m \u001b[39mKeyError\u001b[39;00m(key)\n",
      "\u001b[0;31mKeyError\u001b[0m: ('Diver', 'Gender', 'Discipline')"
     ]
    }
   ],
   "source": [
    "non_numeric_df = dataset['Diver','Gender', 'Discipline', 'Card', 'Remarks', 'Title Event', 'Event Type', 'Day', 'Category Event']\n",
    "numeric_df = dataset['Official Top', 'AP', 'RP', 'Points']"
   ]
  }
 ],
 "metadata": {
  "kernelspec": {
   "display_name": "Python 3",
   "language": "python",
   "name": "python3"
  },
  "language_info": {
   "codemirror_mode": {
    "name": "ipython",
    "version": 3
   },
   "file_extension": ".py",
   "mimetype": "text/x-python",
   "name": "python",
   "nbconvert_exporter": "python",
   "pygments_lexer": "ipython3",
   "version": "3.10.12"
  }
 },
 "nbformat": 4,
 "nbformat_minor": 2
}
